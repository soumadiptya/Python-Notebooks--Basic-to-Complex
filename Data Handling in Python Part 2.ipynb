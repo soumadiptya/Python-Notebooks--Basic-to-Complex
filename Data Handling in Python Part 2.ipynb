{
 "cells": [
  {
   "cell_type": "markdown",
   "metadata": {},
   "source": [
    "### Complex Data Types\n",
    "### Lists"
   ]
  },
  {
   "cell_type": "code",
   "execution_count": 3,
   "metadata": {},
   "outputs": [],
   "source": [
    "cities = [\"Mumbai\", \"Pune\", \"Bangalore\", \"Hyderabad\", \"Chennai\", \"Ahmedabad\", \"Kolkata\", \"Surat\", \"Pune\", \"Jaipur\"]"
   ]
  },
  {
   "cell_type": "code",
   "execution_count": 4,
   "metadata": {},
   "outputs": [
    {
     "data": {
      "text/plain": [
       "['Mumbai',\n",
       " 'Pune',\n",
       " 'Bangalore',\n",
       " 'Hyderabad',\n",
       " 'Chennai',\n",
       " 'Ahmedabad',\n",
       " 'Kolkata',\n",
       " 'Surat',\n",
       " 'Pune',\n",
       " 'Jaipur']"
      ]
     },
     "execution_count": 4,
     "metadata": {},
     "output_type": "execute_result"
    }
   ],
   "source": [
    "cities"
   ]
  },
  {
   "cell_type": "code",
   "execution_count": 5,
   "metadata": {},
   "outputs": [
    {
     "data": {
      "text/plain": [
       "'Mumbai'"
      ]
     },
     "execution_count": 5,
     "metadata": {},
     "output_type": "execute_result"
    }
   ],
   "source": [
    "cities[0]"
   ]
  },
  {
   "cell_type": "code",
   "execution_count": 6,
   "metadata": {},
   "outputs": [
    {
     "data": {
      "text/plain": [
       "10"
      ]
     },
     "execution_count": 6,
     "metadata": {},
     "output_type": "execute_result"
    }
   ],
   "source": [
    "len(cities)"
   ]
  },
  {
   "cell_type": "code",
   "execution_count": 7,
   "metadata": {},
   "outputs": [
    {
     "data": {
      "text/plain": [
       "'Surat'"
      ]
     },
     "execution_count": 7,
     "metadata": {},
     "output_type": "execute_result"
    }
   ],
   "source": [
    "cities[-3]"
   ]
  },
  {
   "cell_type": "code",
   "execution_count": 9,
   "metadata": {},
   "outputs": [
    {
     "data": {
      "text/plain": [
       "['Pune', 'Bangalore', 'Hyderabad']"
      ]
     },
     "execution_count": 9,
     "metadata": {},
     "output_type": "execute_result"
    }
   ],
   "source": [
    "cities[1:4]"
   ]
  },
  {
   "cell_type": "code",
   "execution_count": 10,
   "metadata": {},
   "outputs": [
    {
     "data": {
      "text/plain": [
       "['Mumbai',\n",
       " 'Pune',\n",
       " 'Bangalore',\n",
       " 'Hyderabad',\n",
       " 'Chennai',\n",
       " 'Ahmedabad',\n",
       " 'Kolkata',\n",
       " 'Surat',\n",
       " 'Pune',\n",
       " 'Jaipur',\n",
       " 'kanpur']"
      ]
     },
     "execution_count": 10,
     "metadata": {},
     "output_type": "execute_result"
    }
   ],
   "source": [
    "cities.append(\"kanpur\")\n",
    "cities"
   ]
  },
  {
   "cell_type": "code",
   "execution_count": 11,
   "metadata": {},
   "outputs": [
    {
     "ename": "TypeError",
     "evalue": "append() takes exactly one argument (3 given)",
     "output_type": "error",
     "traceback": [
      "\u001b[1;31m---------------------------------------------------------------------------\u001b[0m",
      "\u001b[1;31mTypeError\u001b[0m                                 Traceback (most recent call last)",
      "\u001b[1;32m<ipython-input-11-df58dc12f3de>\u001b[0m in \u001b[0;36m<module>\u001b[1;34m()\u001b[0m\n\u001b[1;32m----> 1\u001b[1;33m \u001b[0mcities\u001b[0m\u001b[1;33m.\u001b[0m\u001b[0mappend\u001b[0m\u001b[1;33m(\u001b[0m\u001b[1;34m\"Kanpur\"\u001b[0m\u001b[1;33m,\u001b[0m \u001b[1;34m\"Herat\"\u001b[0m\u001b[1;33m,\u001b[0m \u001b[1;34m\"Kandahar\"\u001b[0m\u001b[1;33m)\u001b[0m\u001b[1;33m\u001b[0m\u001b[0m\n\u001b[0m",
      "\u001b[1;31mTypeError\u001b[0m: append() takes exactly one argument (3 given)"
     ]
    }
   ],
   "source": [
    "cities.append(\"Kanpur\", \"Herat\", \"Kandahar\")"
   ]
  },
  {
   "cell_type": "code",
   "execution_count": 12,
   "metadata": {},
   "outputs": [],
   "source": [
    "cities.append([\"Kanpur\", \"Herat\", \"Kandahar\"])"
   ]
  },
  {
   "cell_type": "code",
   "execution_count": 13,
   "metadata": {},
   "outputs": [
    {
     "data": {
      "text/plain": [
       "['Mumbai',\n",
       " 'Pune',\n",
       " 'Bangalore',\n",
       " 'Hyderabad',\n",
       " 'Chennai',\n",
       " 'Ahmedabad',\n",
       " 'Kolkata',\n",
       " 'Surat',\n",
       " 'Pune',\n",
       " 'Jaipur',\n",
       " 'kanpur',\n",
       " ['Kanpur', 'Herat', 'Kandahar']]"
      ]
     },
     "execution_count": 13,
     "metadata": {},
     "output_type": "execute_result"
    }
   ],
   "source": [
    "cities # The last element became a list instead of getting 3 last elements"
   ]
  },
  {
   "cell_type": "code",
   "execution_count": 14,
   "metadata": {},
   "outputs": [
    {
     "data": {
      "text/plain": [
       "['Kanpur', 'Herat', 'Kandahar']"
      ]
     },
     "execution_count": 14,
     "metadata": {},
     "output_type": "execute_result"
    }
   ],
   "source": [
    "cities.pop() # Removes the last element of a list"
   ]
  },
  {
   "cell_type": "code",
   "execution_count": 15,
   "metadata": {},
   "outputs": [
    {
     "data": {
      "text/plain": [
       "['Mumbai',\n",
       " 'Pune',\n",
       " 'Bangalore',\n",
       " 'Hyderabad',\n",
       " 'Chennai',\n",
       " 'Ahmedabad',\n",
       " 'Kolkata',\n",
       " 'Surat',\n",
       " 'Pune',\n",
       " 'Jaipur',\n",
       " 'kanpur']"
      ]
     },
     "execution_count": 15,
     "metadata": {},
     "output_type": "execute_result"
    }
   ],
   "source": [
    "cities"
   ]
  },
  {
   "cell_type": "code",
   "execution_count": 16,
   "metadata": {},
   "outputs": [],
   "source": [
    "cities.extend(['Kabul', 'Herat', 'Kandahar']) # Takes only one argument"
   ]
  },
  {
   "cell_type": "code",
   "execution_count": 17,
   "metadata": {},
   "outputs": [
    {
     "data": {
      "text/plain": [
       "['Mumbai',\n",
       " 'Pune',\n",
       " 'Bangalore',\n",
       " 'Hyderabad',\n",
       " 'Chennai',\n",
       " 'Ahmedabad',\n",
       " 'Kolkata',\n",
       " 'Surat',\n",
       " 'Pune',\n",
       " 'Jaipur',\n",
       " 'kanpur',\n",
       " 'Kabul',\n",
       " 'Herat',\n",
       " 'Kandahar']"
      ]
     },
     "execution_count": 17,
     "metadata": {},
     "output_type": "execute_result"
    }
   ],
   "source": [
    "cities"
   ]
  },
  {
   "cell_type": "code",
   "execution_count": 18,
   "metadata": {},
   "outputs": [
    {
     "data": {
      "text/plain": [
       "['Mumbai',\n",
       " 'Pune',\n",
       " 'Bangalore',\n",
       " 'Hyderabad',\n",
       " 'test_city',\n",
       " 'Chennai',\n",
       " 'Ahmedabad',\n",
       " 'Kolkata',\n",
       " 'Surat',\n",
       " 'Pune',\n",
       " 'Jaipur',\n",
       " 'kanpur',\n",
       " 'Kabul',\n",
       " 'Herat',\n",
       " 'Kandahar']"
      ]
     },
     "execution_count": 18,
     "metadata": {},
     "output_type": "execute_result"
    }
   ],
   "source": [
    "cities.insert(4, \"test_city\") # To insert at a specific index\n",
    "cities"
   ]
  },
  {
   "cell_type": "code",
   "execution_count": 19,
   "metadata": {},
   "outputs": [
    {
     "data": {
      "text/plain": [
       "['Mumbai',\n",
       " 'Pune',\n",
       " 'Bangalore',\n",
       " 'Hyderabad',\n",
       " 'Chennai',\n",
       " 'Ahmedabad',\n",
       " 'Kolkata',\n",
       " 'Surat',\n",
       " 'Pune',\n",
       " 'Jaipur',\n",
       " 'kanpur',\n",
       " 'Kabul',\n",
       " 'Herat',\n",
       " 'Kandahar']"
      ]
     },
     "execution_count": 19,
     "metadata": {},
     "output_type": "execute_result"
    }
   ],
   "source": [
    "cities.remove(\"test_city\") # So it doesn't remove using the index but the content\n",
    "cities"
   ]
  },
  {
   "cell_type": "code",
   "execution_count": 20,
   "metadata": {},
   "outputs": [
    {
     "data": {
      "text/plain": [
       "True"
      ]
     },
     "execution_count": 20,
     "metadata": {},
     "output_type": "execute_result"
    }
   ],
   "source": [
    "\"Mumbai\" in cities"
   ]
  },
  {
   "cell_type": "markdown",
   "metadata": {},
   "source": [
    "### Lists can hold mixed data types also but this is not recommended."
   ]
  },
  {
   "cell_type": "markdown",
   "metadata": {},
   "source": [
    "## Looping constructs"
   ]
  },
  {
   "cell_type": "code",
   "execution_count": 21,
   "metadata": {},
   "outputs": [
    {
     "name": "stdout",
     "output_type": "stream",
     "text": [
      "Mumbai\n",
      "Pune\n",
      "Bangalore\n",
      "Hyderabad\n",
      "Chennai\n",
      "Ahmedabad\n",
      "Kolkata\n",
      "Surat\n",
      "Pune\n",
      "Jaipur\n",
      "kanpur\n",
      "Kabul\n",
      "Herat\n",
      "Kandahar\n"
     ]
    }
   ],
   "source": [
    "for city in cities:\n",
    "    print(city)"
   ]
  },
  {
   "cell_type": "code",
   "execution_count": 22,
   "metadata": {},
   "outputs": [
    {
     "name": "stdout",
     "output_type": "stream",
     "text": [
      "6\n",
      "4\n",
      "9\n",
      "9\n",
      "7\n",
      "9\n",
      "7\n",
      "5\n",
      "4\n",
      "6\n",
      "6\n",
      "5\n",
      "5\n",
      "8\n"
     ]
    }
   ],
   "source": [
    "for city in cities:\n",
    "    print(len(city)) # Length of city Names"
   ]
  },
  {
   "cell_type": "code",
   "execution_count": 24,
   "metadata": {},
   "outputs": [
    {
     "name": "stdout",
     "output_type": "stream",
     "text": [
      "Welcome to Mumbai\n",
      "Welcome to Pune\n",
      "Welcome to Bangalore\n",
      "Welcome to Hyderabad, which is a bad city\n",
      "Welcome to Chennai\n",
      "Welcome to Ahmedabad, which is a bad city\n",
      "Welcome to Kolkata\n",
      "Welcome to Surat\n",
      "Welcome to Pune\n",
      "Welcome to Jaipur, which is a city containing pur\n",
      "Welcome to kanpur, which is a city containing pur\n",
      "Welcome to Kabul\n",
      "Welcome to Herat\n",
      "Welcome to Kandahar\n"
     ]
    }
   ],
   "source": [
    "for city in cities:\n",
    "    phrase = \"Welcome to \" + city\n",
    "    if 'pur' in city:\n",
    "        print(phrase + \", which is a city containing pur\")\n",
    "    elif 'bad' in city:\n",
    "        print(phrase + \", which is a bad city\")\n",
    "    else:\n",
    "        print(phrase)"
   ]
  },
  {
   "cell_type": "code",
   "execution_count": 26,
   "metadata": {},
   "outputs": [
    {
     "data": {
      "text/plain": [
       "range(0, 100)"
      ]
     },
     "execution_count": 26,
     "metadata": {},
     "output_type": "execute_result"
    }
   ],
   "source": [
    "x = range(100)\n",
    "x"
   ]
  },
  {
   "cell_type": "code",
   "execution_count": 28,
   "metadata": {},
   "outputs": [
    {
     "data": {
      "text/plain": [
       "range(3, 12)"
      ]
     },
     "execution_count": 28,
     "metadata": {},
     "output_type": "execute_result"
    }
   ],
   "source": [
    "range(3,12)"
   ]
  },
  {
   "cell_type": "code",
   "execution_count": 29,
   "metadata": {},
   "outputs": [
    {
     "ename": "ZeroDivisionError",
     "evalue": "division by zero",
     "output_type": "error",
     "traceback": [
      "\u001b[1;31m---------------------------------------------------------------------------\u001b[0m",
      "\u001b[1;31mZeroDivisionError\u001b[0m                         Traceback (most recent call last)",
      "\u001b[1;32m<ipython-input-29-937915b427be>\u001b[0m in \u001b[0;36m<module>\u001b[1;34m()\u001b[0m\n\u001b[0;32m      1\u001b[0m \u001b[1;32mfor\u001b[0m \u001b[0mn\u001b[0m \u001b[1;32min\u001b[0m \u001b[0mrange\u001b[0m\u001b[1;33m(\u001b[0m\u001b[1;36m10\u001b[0m\u001b[1;33m)\u001b[0m\u001b[1;33m:\u001b[0m\u001b[1;33m\u001b[0m\u001b[0m\n\u001b[1;32m----> 2\u001b[1;33m     \u001b[0mprint\u001b[0m\u001b[1;33m(\u001b[0m\u001b[1;34m\"The inverse of\"\u001b[0m\u001b[1;33m,\u001b[0m \u001b[0mn\u001b[0m\u001b[1;33m,\u001b[0m \u001b[1;34m\"is\"\u001b[0m\u001b[1;33m,\u001b[0m \u001b[1;36m1\u001b[0m\u001b[1;33m/\u001b[0m\u001b[0mn\u001b[0m\u001b[1;33m)\u001b[0m\u001b[1;33m\u001b[0m\u001b[0m\n\u001b[0m",
      "\u001b[1;31mZeroDivisionError\u001b[0m: division by zero"
     ]
    }
   ],
   "source": [
    "for n in range(10):\n",
    "    print(\"The inverse of\", n, \"is\", 1/n)"
   ]
  },
  {
   "cell_type": "code",
   "execution_count": 32,
   "metadata": {},
   "outputs": [
    {
     "name": "stdout",
     "output_type": "stream",
     "text": [
      "The inverse of 1.0 is 1.0\n",
      "The inverse of 2.0 is 0.5\n",
      "The inverse of 3.0 is 0.33\n",
      "The inverse of 4.0 is 0.25\n",
      "The inverse of 5.0 is 0.2\n",
      "The inverse of 6.0 is 0.17\n",
      "The inverse of 7.0 is 0.14\n",
      "The inverse of 8.0 is 0.12\n",
      "The inverse of 9.0 is 0.11\n"
     ]
    }
   ],
   "source": [
    "for n in range(1,10):\n",
    "    print(\"The inverse of\", float(n), \"is\", round(1/n,2))"
   ]
  },
  {
   "cell_type": "code",
   "execution_count": 34,
   "metadata": {},
   "outputs": [
    {
     "name": "stdout",
     "output_type": "stream",
     "text": [
      "The inverse of 0 is not defined\n",
      "The inverse of 1.0 is 1.0\n",
      "The inverse of 2.0 is 0.5\n",
      "The inverse of 3.0 is 0.33\n",
      "The inverse of 4.0 is 0.25\n",
      "The inverse of 5.0 is 0.2\n",
      "The inverse of 6.0 is 0.17\n",
      "The inverse of 7.0 is 0.14\n",
      "The inverse of 8.0 is 0.12\n",
      "The inverse of 9.0 is 0.11\n"
     ]
    }
   ],
   "source": [
    "for n in range(10):\n",
    "    if n == 0:\n",
    "        print(\"The inverse of 0 is not defined\")\n",
    "    else:\n",
    "        print(\"The inverse of\", float(n), \"is\", round(1/n,2))"
   ]
  },
  {
   "cell_type": "code",
   "execution_count": 35,
   "metadata": {},
   "outputs": [
    {
     "ename": "SyntaxError",
     "evalue": "can't assign to literal (<ipython-input-35-b3c2d8e4d06b>, line 1)",
     "output_type": "error",
     "traceback": [
      "\u001b[1;36m  File \u001b[1;32m\"<ipython-input-35-b3c2d8e4d06b>\"\u001b[1;36m, line \u001b[1;32m1\u001b[0m\n\u001b[1;33m    3=4\u001b[0m\n\u001b[1;37m       ^\u001b[0m\n\u001b[1;31mSyntaxError\u001b[0m\u001b[1;31m:\u001b[0m can't assign to literal\n"
     ]
    }
   ],
   "source": [
    "3=4"
   ]
  },
  {
   "cell_type": "code",
   "execution_count": 36,
   "metadata": {},
   "outputs": [
    {
     "data": {
      "text/plain": [
       "False"
      ]
     },
     "execution_count": 36,
     "metadata": {},
     "output_type": "execute_result"
    }
   ],
   "source": [
    "[1,1,2] == [6]"
   ]
  },
  {
   "cell_type": "code",
   "execution_count": 37,
   "metadata": {},
   "outputs": [
    {
     "data": {
      "text/plain": [
       "True"
      ]
     },
     "execution_count": 37,
     "metadata": {},
     "output_type": "execute_result"
    }
   ],
   "source": [
    "[1,1,2] == [1,1,2]"
   ]
  },
  {
   "cell_type": "code",
   "execution_count": 38,
   "metadata": {},
   "outputs": [
    {
     "data": {
      "text/plain": [
       "False"
      ]
     },
     "execution_count": 38,
     "metadata": {},
     "output_type": "execute_result"
    }
   ],
   "source": [
    "[1,1,2] == [1,1,3]"
   ]
  },
  {
   "cell_type": "markdown",
   "metadata": {},
   "source": [
    "List comparisons are not really meaningful when used with inequalities as only first elements are compared. Even in case of equality only overall comparison result is returned unlike in R."
   ]
  },
  {
   "cell_type": "code",
   "execution_count": 39,
   "metadata": {},
   "outputs": [
    {
     "data": {
      "text/plain": [
       "'Mumbai'"
      ]
     },
     "execution_count": 39,
     "metadata": {},
     "output_type": "execute_result"
    }
   ],
   "source": [
    "city = cities[0]\n",
    "city"
   ]
  },
  {
   "cell_type": "code",
   "execution_count": 43,
   "metadata": {},
   "outputs": [
    {
     "name": "stdout",
     "output_type": "stream",
     "text": [
      "Mumbai is in Maharashtra\n",
      "No idea where Pune is\n",
      "No idea where Bangalore is\n",
      "No idea where Hyderabad is\n",
      "Chennai is in Tamil Nadu\n",
      "No idea where Ahmedabad is\n",
      "No idea where Kolkata is\n",
      "No idea where Surat is\n",
      "No idea where Pune is\n",
      "No idea where Jaipur is\n",
      "No idea where kanpur is\n",
      "No idea where Kabul is\n",
      "No idea where Herat is\n",
      "No idea where Kandahar is\n"
     ]
    }
   ],
   "source": [
    "for city in cities:\n",
    "    if city == \"Mumbai\":\n",
    "        print(city, \"is in Maharashtra\")\n",
    "    elif city == \"Chennai\":\n",
    "        print(city, \"is in Tamil Nadu\")\n",
    "    else:\n",
    "        print(\"No idea where\", city, \"is\")\n",
    "    "
   ]
  },
  {
   "cell_type": "code",
   "execution_count": 46,
   "metadata": {},
   "outputs": [
    {
     "name": "stdout",
     "output_type": "stream",
     "text": [
      "Mumbai is in West Zone\n",
      "Pune is in West Zone\n",
      "Bangalore is in South Zone\n",
      "Hyderabad is in South Zone\n",
      "Chennai is in South Zone\n",
      "Ahmedabad is in West Zone\n",
      "Kolkata is in East Zone\n",
      "Surat is in North Zone\n",
      "Pune is in West Zone\n",
      "Jaipur is in North Zone\n",
      "kanpur is in North Zone\n",
      "Kabul is in East Zone\n",
      "Herat is in East Zone\n",
      "Kandahar is in East Zone\n"
     ]
    }
   ],
   "source": [
    "west_city = [cities[0], cities[1], cities[5]]\n",
    "north_city = [\"Delhi\", \"Surat\", \"Jaipur\", \"kanpur\"]\n",
    "south_city = [\"Bangalore\", \"Hyderabad\", \"Chennai\"]\n",
    "\n",
    "for city in cities:\n",
    "    if city in west_city:\n",
    "        print(city, \"is in West Zone\")\n",
    "    elif city in north_city:\n",
    "        print(city, \"is in North Zone\")\n",
    "    elif city in south_city:\n",
    "        print(city, \"is in South Zone\")\n",
    "    else:\n",
    "        print(city, \"is in East Zone\")"
   ]
  },
  {
   "cell_type": "markdown",
   "metadata": {},
   "source": [
    "## In conclusion lists are like vectors but less versatile"
   ]
  },
  {
   "cell_type": "markdown",
   "metadata": {},
   "source": [
    "## Tuple: Like lists but immutable"
   ]
  },
  {
   "cell_type": "code",
   "execution_count": 47,
   "metadata": {},
   "outputs": [
    {
     "data": {
      "text/plain": [
       "(1, 2, 3)"
      ]
     },
     "execution_count": 47,
     "metadata": {},
     "output_type": "execute_result"
    }
   ],
   "source": [
    "t = (1,2,3)\n",
    "t"
   ]
  },
  {
   "cell_type": "code",
   "execution_count": 48,
   "metadata": {},
   "outputs": [
    {
     "data": {
      "text/plain": [
       "tuple"
      ]
     },
     "execution_count": 48,
     "metadata": {},
     "output_type": "execute_result"
    }
   ],
   "source": [
    "type(t)"
   ]
  },
  {
   "cell_type": "markdown",
   "metadata": {},
   "source": [
    "## Dictionaries- mapping objects or associative arrays\n",
    "### An unordered collection of key value pairs\n",
    "### Items are not accessed using indices but rather using key value pairs"
   ]
  },
  {
   "cell_type": "code",
   "execution_count": 59,
   "metadata": {},
   "outputs": [],
   "source": [
    "my_dict = {\"Mumbai\":28, \"Bangalore\":22, \"Kolkata\":27, \"Hyderabad\":32}"
   ]
  },
  {
   "cell_type": "code",
   "execution_count": 60,
   "metadata": {},
   "outputs": [
    {
     "data": {
      "text/plain": [
       "28"
      ]
     },
     "execution_count": 60,
     "metadata": {},
     "output_type": "execute_result"
    }
   ],
   "source": [
    "my_dict['Mumbai']"
   ]
  },
  {
   "cell_type": "code",
   "execution_count": 61,
   "metadata": {},
   "outputs": [
    {
     "data": {
      "text/plain": [
       "4"
      ]
     },
     "execution_count": 61,
     "metadata": {},
     "output_type": "execute_result"
    }
   ],
   "source": [
    "len(my_dict)"
   ]
  },
  {
   "cell_type": "code",
   "execution_count": 62,
   "metadata": {},
   "outputs": [],
   "source": [
    "my_dict['Chennai'] = 30"
   ]
  },
  {
   "cell_type": "code",
   "execution_count": 63,
   "metadata": {},
   "outputs": [
    {
     "name": "stdout",
     "output_type": "stream",
     "text": [
      "{'Mumbai': 28, 'Bangalore': 22, 'Kolkata': 27, 'Hyderabad': 32, 'Chennai': 30}\n"
     ]
    }
   ],
   "source": [
    "print(my_dict)"
   ]
  },
  {
   "cell_type": "code",
   "execution_count": 64,
   "metadata": {},
   "outputs": [
    {
     "data": {
      "text/plain": [
       "True"
      ]
     },
     "execution_count": 64,
     "metadata": {},
     "output_type": "execute_result"
    }
   ],
   "source": [
    "'Chennai' in my_dict"
   ]
  },
  {
   "cell_type": "code",
   "execution_count": 65,
   "metadata": {},
   "outputs": [
    {
     "data": {
      "text/plain": [
       "False"
      ]
     },
     "execution_count": 65,
     "metadata": {},
     "output_type": "execute_result"
    }
   ],
   "source": [
    "'Ahmedabad' in my_dict"
   ]
  },
  {
   "cell_type": "code",
   "execution_count": 66,
   "metadata": {},
   "outputs": [],
   "source": [
    "del my_dict['Hyderabad'] # Deletes Hyderabad from the dictionary"
   ]
  },
  {
   "cell_type": "code",
   "execution_count": 67,
   "metadata": {},
   "outputs": [],
   "source": [
    "d_2015 = {'x':10, \"y\":20}\n",
    "d_2016 = {\"x\":100, \"z\":30, \"a\":33, \"b\":66}"
   ]
  },
  {
   "cell_type": "code",
   "execution_count": 68,
   "metadata": {},
   "outputs": [],
   "source": [
    "d_2016.update(d_2015) # Updates values in one dictionary with values in other dictionary"
   ]
  },
  {
   "cell_type": "code",
   "execution_count": 69,
   "metadata": {},
   "outputs": [
    {
     "data": {
      "text/plain": [
       "{'a': 33, 'b': 66, 'x': 10, 'y': 20, 'z': 30}"
      ]
     },
     "execution_count": 69,
     "metadata": {},
     "output_type": "execute_result"
    }
   ],
   "source": [
    "d_2016"
   ]
  },
  {
   "cell_type": "code",
   "execution_count": null,
   "metadata": {},
   "outputs": [],
   "source": []
  }
 ],
 "metadata": {
  "kernelspec": {
   "display_name": "Python 3",
   "language": "python",
   "name": "python3"
  },
  "language_info": {
   "codemirror_mode": {
    "name": "ipython",
    "version": 3
   },
   "file_extension": ".py",
   "mimetype": "text/x-python",
   "name": "python",
   "nbconvert_exporter": "python",
   "pygments_lexer": "ipython3",
   "version": "3.6.4"
  }
 },
 "nbformat": 4,
 "nbformat_minor": 2
}
